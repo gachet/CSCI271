{
 "cells": [
  {
   "cell_type": "markdown",
   "metadata": {
    "slideshow": {
     "slide_type": "slide"
    }
   },
   "source": [
    "# Introduction to Computers & C++ Programming"
   ]
  },
  {
   "cell_type": "markdown",
   "metadata": {
    "slideshow": {
     "slide_type": "slide"
    }
   },
   "source": [
    "## Hardware and Software"
   ]
  },
  {
   "cell_type": "markdown",
   "metadata": {},
   "source": [
    "**Software** (i.e., the instructions you write) controls **hardware** (i.e., computers).\n",
    "\n",
    "Regardless of differences in physical appearance, computers can be envisioned as divided into various logical units or sections:\n",
    "\n",
    "- **Input unit:** This “receiving” section obtains information (data and computer programs) from input devices and places it at the disposal of the other units for processing.\n",
    "\n",
    "- **Output unit:** This “shipping” section takes information the computer has processed and places it on various output devices to make it available for use outside the computer. \n",
    "\n",
    "- **Memory unit:** This rapid-access section retains information that has been entered through the input unit, also retains processed information until it can be placed on output devices by the output unit.\n",
    "\n",
    "- **Arithmetic and logic unit (ALU):** This unit performs calculations, and also contains the decision mechanisms. The ALU is implemented as part of the next logical unit, the CPU.\n",
    "\n",
    "- **Central processing unit (CPU):** The CPU tells the input unit when information should be read into the memory unit, tells the ALU when information from the memory unit should be used in calculations and tells the output unit when to send information from the memory unit to certain output devices."
   ]
  },
  {
   "cell_type": "markdown",
   "metadata": {},
   "source": [
    "## Byte measurements\n",
    "\n",
    "|Unit            |Bytes          | Exactly | Which is approximately |\n",
    "|----------------|---------------|---------|---------------|\n",
    "|1 kilobyte (KB) |1024 bytes     | $2^{10}$  | $10^3$ (1024) bytes exactly |\n",
    "|1 megabyte (MB) |1024 kilobytes | $2^{20}$  | $10^6$ (1,000,000) bytes |\n",
    "|1 gigabyte (GB) |1024 megabytes | $2^{30}$  | $10^9$ (1,000,000,000) bytes\n",
    "|1 terabyte (TB) |1024 gigabytes | $2^{40}$  | $10^{12}$ (1,000,000,000,000) bytes\n",
    "|1 petabyte (PB) |1024 terabytes | $2^{50}$  | $10^{15}$ (1,000,000,000,000,000) bytes\n",
    "|1 exabyte (EB)  |1024 petabytes | $2^{60}$  | $10^{18}$ (1,000,000,000,000,000,000) bytes\n",
    "|1 zettabyte (ZB)|1024 exabytes  | $2^{70}$  | $10^{21}$ (1,000,000,000,000,000,000,000) bytes"
   ]
  },
  {
   "cell_type": "markdown",
   "metadata": {},
   "source": [
    "## Programming Languages"
   ]
  },
  {
   "cell_type": "markdown",
   "metadata": {},
   "source": [
    "- **Machine language** (also called machine code), defined by the hardware architecture\n",
    "\n"
   ]
  },
  {
   "cell_type": "code",
   "execution_count": null,
   "metadata": {},
   "outputs": [],
   "source": []
  },
  {
   "cell_type": "markdown",
   "metadata": {
    "slideshow": {
     "slide_type": "slide"
    }
   },
   "source": [
    "- C++ - a powerful computer programming language that’s appropriate for technically oriented people with little or no programming experience, and for experienced programmers to use in building substantial information systems.\n",
    "\n",
    "- C++ is one of today’s most popular software development languages.\n",
    "\n",
    "- C++11 and C++14 are the latest versions standardized through the International Organization for Standardization (ISO) and the International Electrotechnical Commission (IEC)."
   ]
  },
  {
   "cell_type": "code",
   "execution_count": 23,
   "metadata": {},
   "outputs": [
    {
     "name": "stdout",
     "output_type": "stream",
     "text": [
      "1 petabyte is 2^50 bytes = 1125899906842624 bytes\n"
     ]
    }
   ],
   "source": [
    "#include <iostream>\n",
    "#include <iomanip>\n",
    "#include <cmath>\n",
    "\n",
    "std::cout << \"1 petabyte is 2^50 bytes = \" << std::setprecision(20) <<  pow(2., 50) << \" bytes\" << std::endl;"
   ]
  },
  {
   "cell_type": "markdown",
   "metadata": {},
   "source": [
    "Edit and run to above program: https://coliru.stacked-crooked.com/a/d856d69604863045"
   ]
  },
  {
   "cell_type": "code",
   "execution_count": 7,
   "metadata": {
    "slideshow": {
     "slide_type": "slide"
    }
   },
   "outputs": [],
   "source": [
    "#include <iostream> // allows program to output data to the screen\n",
    "\n",
    "// function main begins program execution\n",
    "int main1()\n",
    "{\n",
    "   std::cout << \"Welcome to C++!\\n\"; // display message\n",
    "\n",
    "   return 0; // indicate that program ended successfully\n",
    "\n",
    "} // end function main"
   ]
  },
  {
   "cell_type": "code",
   "execution_count": 2,
   "metadata": {
    "slideshow": {
     "slide_type": "subslide"
    }
   },
   "outputs": [
    {
     "name": "stdout",
     "output_type": "stream",
     "text": [
      "Welcome to C++!\n"
     ]
    },
    {
     "data": {
      "text/plain": [
       "@0x7f0aa1177ee0"
      ]
     },
     "execution_count": 2,
     "metadata": {},
     "output_type": "execute_result"
    }
   ],
   "source": [
    "std::cout << \"Welcome to C++!\\n\"; // display message"
   ]
  },
  {
   "cell_type": "markdown",
   "metadata": {},
   "source": [
    "https://andersy005.github.io/blog/2018/01/20/play-interactively-with-cpp-streams/\n",
    "https://andersy005.github.io/blog/2018/01/23/play-interactively-with-cpp-sequence-containers/"
   ]
  }
 ],
 "metadata": {
  "kernelspec": {
   "display_name": "C++14",
   "language": "C++14",
   "name": "xeus-cling-cpp14"
  },
  "language_info": {
   "codemirror_mode": "text/x-c++src",
   "file_extension": ".cpp",
   "mimetype": "text/x-c++src",
   "name": "c++",
   "version": "-std=c++14"
  }
 },
 "nbformat": 4,
 "nbformat_minor": 2
}
