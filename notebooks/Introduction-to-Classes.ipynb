{
 "cells": [
  {
   "cell_type": "markdown",
   "metadata": {},
   "source": [
    "# Introduction to Classes\n",
    "\n",
    "**Class** is a user defined data type, which holds its own data members and member functions, which can be accessed and used by creating an instance of that class.\n",
    "- A class is like a blueprint for an object.\n",
    "- Each class you create becomes a new type you can use to create objects, so C++ is an extensible programming language.\n",
    "- Classes cannot execute by themselves.\n",
    "  - A Person object can drive a Car object by telling it what to do (go faster, go slower, turn left, turn right, etc.) - without knowing how the car’s internal mechanisms work.\n",
    "  - Similarly, the main function can \"drive\" an Account object by calling its member functions - without knowing how the class is implemented.\n"
   ]
  },
  {
   "cell_type": "markdown",
   "metadata": {},
   "source": [
    "## Example: Simple bank-account class\n",
    "\n",
    "Maintains as data members the attributes name and balance, and provides member functions for behaviors including\n",
    "- querying the balance (getBalance),\n",
    "- making a deposit that increases the balance (deposit) and\n",
    "- making a withdrawal that decreases the balance (withdraw)."
   ]
  },
  {
   "cell_type": "code",
   "execution_count": null,
   "metadata": {},
   "outputs": [],
   "source": [
    "// Account.h\n",
    "// Account class that contains a name data member \n",
    "// and member functions to set and get its value.\n",
    "#include <string> // enable program to use C++ string data type\n",
    "\n",
    "class Account {\n",
    "public:\n",
    "    // member function that sets the account name in the object\n",
    "    void setName(std::string accountName) {\n",
    "        name = accountName; // store the account name           \n",
    "    }\n",
    "\n",
    "    // member function that retrieves the account name from the object       \n",
    "    std::string getName() const {\n",
    "        return name; // return name's value to this function's caller\n",
    "    }\n",
    "private:\n",
    "    std::string name; // data member containing account holder's name\n",
    "}; // end class Account"
   ]
  },
  {
   "cell_type": "code",
   "execution_count": null,
   "metadata": {},
   "outputs": [],
   "source": [
    "// AccountTest.cpp\n",
    "// Creating and manipulating an Account object.\n",
    "#include <iostream>\n",
    "#include <string>\n",
    "#include \"Account.h\"\n",
    "\n",
    "using namespace std;\n",
    "\n",
    "int main() { \n",
    "   Account myAccount; // create Account object myAccount\n",
    "\n",
    "   // show that the initial value of myAccount's name is the empty string\n",
    "   cout << \"Initial account name is: \" << myAccount.getName();\n",
    "\n",
    "   // prompt for and read name\n",
    "   cout << \"\\nPlease enter the account name: \";\n",
    "   string theName;\n",
    "   getline(cin, theName); // read a line of text\n",
    "   myAccount.setName(theName); // put theName in myAccount\n",
    "\n",
    "   // display the name stored in object myAccount\n",
    "   cout << \"Name in object myAccount is: \" \n",
    "      << myAccount.getName() << endl;\n",
    "}"
   ]
  },
  {
   "cell_type": "markdown",
   "metadata": {},
   "source": [
    "## Classes\n",
    "\n",
    "Classes are defined using either keyword class or keyword struct, with the following syntax:\n",
    "\n",
    "```cpp\n",
    "class class_name\n",
    "{\n",
    "  access_specifier_1:\n",
    "    member1;\n",
    "  access_specifier_2:\n",
    "    member2;\n",
    "  ...\n",
    "} object_names;\n",
    "```\n",
    "\n",
    "Where `class_name` is a valid identifier for the class, `object_names` is an optional list of names for objects of this class. The body of the declaration can contain members, which can either be data or function declarations, and optionally access specifiers.\n",
    "\n",
    "Classes have the same format as **plain data structures**, except that they can also include functions and have these new things called access specifiers.\n",
    "\n",
    "An access specifier is one of the following three keywords: **private, public or protected**. These specifiers modify the access rights for the members that follow them:\n",
    "\n",
    "- **private** members of a class are accessible only from within other members of the same class (or from their \"friends\").\n",
    "- **protected** members are accessible from other members of the same class (or from their \"friends\"), but also from members of their derived classes.\n",
    "- **public** members are accessible from anywhere where the object is visible.\n",
    "\n",
    "*Note:* By default, all members of a class declared with the class keyword have private access for all its members."
   ]
  },
  {
   "cell_type": "markdown",
   "metadata": {},
   "source": [
    "## Instantiating an Object\n",
    "\n",
    "- **An object** is an instantiation of *a class*. In terms of variables, a class would be the type, and an object would be the variable.\n",
    "\n",
    "- Typically, you cannot call a member function of a class until you create an object of that class."
   ]
  },
  {
   "cell_type": "markdown",
   "metadata": {},
   "source": [
    "## Members\n",
    "\n",
    "Functions:\n",
    "\n",
    "- E.g. One can get `myAccount` name by calling the object’s `getName` member function with the expression `myAccount.getName()`.\n",
    "- To call this member function for a specific object, you specify the object’s name (myAccount), followed by the **dot operator (.)**, then the member function name (getName) and a set of parentheses.\n",
    "- The empty parentheses indicate that getName does not require any additional information to perform its task.\n",
    "- The member function's return type (which appears to the left of the function’s name) specifies the type of data the member function returns to its caller after performing its task.\n",
    "- The return type void indicates that a function does not return (i.e., give back) any information to its calling function.\n",
    "\n",
    "Data:\n",
    " - An object has attributes, implemented as **data members** - the object carries these with it throughout its lifetime.\n",
    "- Each object has its own copy of the class's data members.\n",
    "- Normally, a class also contains one or more member functions that manipulate the data members belonging to particular objects of the class.\n",
    "- Data members are declared inside a class definition but outside the bodies of the class's member functions."
   ]
  },
  {
   "cell_type": "markdown",
   "metadata": {},
   "source": [
    "## Example: Simple bank-account class (cont.)\n",
    "\n",
    "- Class **Account** contains a name data member that stores the account holder’s name.\n",
    "- A class's data members maintain data for each object of the class.\n",
    "- Class **Account** also contains member function **setName** that a program can call to store a name in an Account object, and member function **getName** that a program can call to obtain a name from an Account object."
   ]
  }
 ],
 "metadata": {
  "kernelspec": {
   "display_name": "C++14",
   "language": "C++14",
   "name": "xeus-cling-cpp14"
  },
  "language_info": {
   "codemirror_mode": "text/x-c++src",
   "file_extension": ".cpp",
   "mimetype": "text/x-c++src",
   "name": "c++",
   "version": "-std=c++14"
  }
 },
 "nbformat": 4,
 "nbformat_minor": 2
}
